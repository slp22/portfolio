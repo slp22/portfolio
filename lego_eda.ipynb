{
 "cells": [
  {
   "cell_type": "code",
   "execution_count": null,
   "id": "1fe45bd6",
   "metadata": {},
   "outputs": [],
   "source": [
    "import numpy as np\n",
    "import pandas as pd\n",
    "import matplotlib.pyplot as plt"
   ]
  },
  {
   "cell_type": "code",
   "execution_count": null,
   "id": "07f1a657",
   "metadata": {},
   "outputs": [],
   "source": [
    "colors = pd.read_csv('/Users/slp22/code/Datasets_5Sep2024/colors.csv')\n",
    "sets = pd.read_csv('/Users/slp22/code/Datasets_5Sep2024/sets.csv')\n",
    "inventory_parts = pd.read_csv('/Users/slp22/code/Datasets_5Sep2024/inventory_parts.csv')\n",
    "inventories = pd.read_csv('/Users/slp22/code/Datasets_5Sep2024/inventories.csv')\n",
    "parts = pd.read_csv('/Users/slp22/code/Datasets_5Sep2024/parts.csv')\n",
    "themes = pd.read_csv('/Users/slp22/code/Datasets_5Sep2024/themes.csv')\n",
    "part_categories = pd.read_csv('/Users/slp22/code/Datasets_5Sep2024/part_categories.csv')\n",
    "inventory_sets = pd.read_csv('/Users/slp22/code/Datasets_5Sep2024/inventory_sets.csv')"
   ]
  },
  {
   "cell_type": "code",
   "execution_count": null,
   "id": "8832092b",
   "metadata": {},
   "outputs": [],
   "source": [
    "colors.head()"
   ]
  },
  {
   "cell_type": "code",
   "execution_count": null,
   "id": "c187f89d",
   "metadata": {},
   "outputs": [],
   "source": [
    "sets.head()"
   ]
  },
  {
   "cell_type": "code",
   "execution_count": null,
   "id": "c25bc76d",
   "metadata": {},
   "outputs": [],
   "source": [
    "# inventory_parts.head()"
   ]
  },
  {
   "cell_type": "code",
   "execution_count": null,
   "id": "69f52763",
   "metadata": {},
   "outputs": [],
   "source": [
    "# inventories.head()"
   ]
  },
  {
   "cell_type": "code",
   "execution_count": null,
   "id": "8d7126be",
   "metadata": {},
   "outputs": [],
   "source": [
    "# parts.head()"
   ]
  },
  {
   "cell_type": "code",
   "execution_count": null,
   "id": "9f66db8f",
   "metadata": {},
   "outputs": [],
   "source": [
    "# themes.head()"
   ]
  },
  {
   "cell_type": "code",
   "execution_count": null,
   "id": "1b64a32f",
   "metadata": {},
   "outputs": [],
   "source": [
    "# part_categories.head()"
   ]
  },
  {
   "cell_type": "code",
   "execution_count": null,
   "id": "02fd8636",
   "metadata": {},
   "outputs": [],
   "source": [
    "# inventory_sets.head()"
   ]
  },
  {
   "cell_type": "code",
   "execution_count": null,
   "id": "c2bb1ebd",
   "metadata": {},
   "outputs": [],
   "source": [
    "sets.describe()"
   ]
  },
  {
   "cell_type": "code",
   "execution_count": null,
   "id": "192024a8",
   "metadata": {},
   "outputs": [],
   "source": [
    "sets.dtypes"
   ]
  },
  {
   "cell_type": "code",
   "execution_count": null,
   "id": "cc47804f",
   "metadata": {},
   "outputs": [],
   "source": [
    "# print('colors.shape:', colors.shape)\n",
    "print('sets.shape:', sets.shape)\n",
    "# print('inventory_parts.shape:', inventory_parts.shape)\n",
    "# print('inventories.shape:', inventories.shape)\n",
    "print('parts.shape:', parts.shape)\n",
    "# print('themes.shape:', themes.shape)\n",
    "# print('part_categories.shape:', part_categories.shape)\n",
    "# print('inventory_sets.shape:', inventory_sets.shape)\n"
   ]
  },
  {
   "cell_type": "code",
   "execution_count": null,
   "id": "8deac4ac",
   "metadata": {},
   "outputs": [],
   "source": [
    "# print('colors isnull:','\\n', colors.isnull().sum())\n",
    "# print('\\n')\n",
    "print('sets isnull:','\\n',sets.isnull().sum())\n",
    "print('\\n')\n",
    "# print('inventory_parts isnull:','\\n',inventory_parts.isnull().sum())\n",
    "# print('\\n')\n",
    "# print('inventories isnull:','\\n',inventories.isnull().sum())\n",
    "# print('\\n')\n",
    "print('parts isnull:','\\n',parts.isnull().sum())\n",
    "print('\\n')\n",
    "# print('themes isnull:','\\n',themes.isnull().sum())\n",
    "# print('\\n')\n",
    "# print('part_categories isnull:','\\n',part_categories.isnull().sum())\n",
    "# print('\\n')\n",
    "# print('inventory_sets isnull:','\\n',inventory_sets.isnull().sum())"
   ]
  },
  {
   "cell_type": "code",
   "execution_count": null,
   "id": "29d51dee",
   "metadata": {},
   "outputs": [],
   "source": [
    "sets.describe()"
   ]
  },
  {
   "cell_type": "code",
   "execution_count": null,
   "id": "5516e3eb",
   "metadata": {},
   "outputs": [],
   "source": [
    "parts.describe()"
   ]
  },
  {
   "cell_type": "code",
   "execution_count": null,
   "id": "3110c8d1",
   "metadata": {},
   "outputs": [],
   "source": [
    "# what were the first few years?\n",
    "\n",
    "# early_sets = sets.sort_values(by=['year'])\n",
    "# early_sets.head(20)\n",
    "early_sets = sets[sets['year'] < 1951]\n",
    "early_sets"
   ]
  },
  {
   "cell_type": "code",
   "execution_count": null,
   "id": "cfd54ff5",
   "metadata": {},
   "outputs": [],
   "source": [
    "# what's planned for 2025?\n",
    "yr_2025 = sets[sets['year'] > 2024]\n",
    "yr_2025"
   ]
  },
  {
   "cell_type": "code",
   "execution_count": null,
   "id": "851b70f3",
   "metadata": {},
   "outputs": [],
   "source": [
    "# what items have num_parts=0?\n",
    "zero_parts = sets[sets['num_parts'] < 1]\n",
    "# zero_parts"
   ]
  },
  {
   "cell_type": "code",
   "execution_count": null,
   "id": "5470af00",
   "metadata": {},
   "outputs": [],
   "source": [
    "# parts.sort_values(by='part_material')"
   ]
  },
  {
   "cell_type": "code",
   "execution_count": null,
   "id": "62c8ae84",
   "metadata": {},
   "outputs": [],
   "source": [
    "# sets_parts = sets(year) + parts(materials)\n",
    "# DataFrame.join(other, on=None, how='left', lsuffix='', rsuffix='', sort=False, validate=None)\n",
    "# https://pandas.pydata.org/docs/reference/api/pandas.DataFrame.join.html#pandas.DataFrame.join\n",
    "\n",
    "sets_parts = sets.join(parts, lsuffix='_sets', \n",
    "                       rsuffix='_parts', how='left')\n",
    "sets_parts.head(2)"
   ]
  },
  {
   "cell_type": "code",
   "execution_count": null,
   "id": "d8d1495c",
   "metadata": {},
   "outputs": [],
   "source": [
    "print(sets_parts.describe())\n",
    "print('sets_parts.shape', sets_parts.shape)"
   ]
  },
  {
   "cell_type": "code",
   "execution_count": null,
   "id": "1a314e29",
   "metadata": {},
   "outputs": [],
   "source": [
    "# reorder columns with df.loc[:,['col_name']]\n",
    "\n",
    "sets_parts = sets_parts.loc[:,['year','part_material','name_sets','name_parts',   'set_num', 'num_parts','part_num', \n",
    "                               'theme_id', 'part_cat_id', 'img_url']]\n",
    "sets_parts.head(2)"
   ]
  },
  {
   "cell_type": "markdown",
   "id": "faf88387",
   "metadata": {},
   "source": [
    "# Materials"
   ]
  },
  {
   "cell_type": "markdown",
   "id": "3c9e1fb8",
   "metadata": {},
   "source": [
    "## What materials does Lego use?\n"
   ]
  },
  {
   "cell_type": "code",
   "execution_count": null,
   "id": "d6322235",
   "metadata": {},
   "outputs": [],
   "source": [
    "# materials\n",
    "\n",
    "materials = []\n",
    "\n",
    "for i in range(0, len(parts['part_material'])):\n",
    "    if parts['part_material'][i] not in materials:\n",
    "        materials.append(parts['part_material'][i])\n",
    "print(\"Materials:\", materials)"
   ]
  },
  {
   "cell_type": "markdown",
   "id": "78a3d4fc",
   "metadata": {},
   "source": [
    "## When did Lego introduce new materials? In how many sets? How many parts total? "
   ]
  },
  {
   "cell_type": "code",
   "execution_count": null,
   "id": "39462c76",
   "metadata": {},
   "outputs": [],
   "source": [
    "# plastic \n",
    "\n",
    "plastic = sets_parts.loc[sets_parts['part_material'].str.contains('Plastic')]\n",
    "print('plastic.shape', plastic.shape)\n",
    "plastic.describe()"
   ]
  },
  {
   "cell_type": "code",
   "execution_count": null,
   "id": "f2cb6c70",
   "metadata": {},
   "outputs": [],
   "source": [
    "plastic_sum = plastic.sum(axis=0)\n",
    "plastic_sum[5:6]"
   ]
  },
  {
   "cell_type": "code",
   "execution_count": null,
   "id": "131bef00",
   "metadata": {},
   "outputs": [],
   "source": [
    "plastic = ['Plastic', 1949, 23373, 3775784]"
   ]
  },
  {
   "cell_type": "markdown",
   "id": "8b2b2aea",
   "metadata": {},
   "source": [
    "### Plastic started in 1949, in 23,373 sets totaling 3,775,784 parts.  "
   ]
  },
  {
   "cell_type": "code",
   "execution_count": null,
   "id": "d849a5bf",
   "metadata": {},
   "outputs": [],
   "source": [
    "# rubber\n",
    "\n",
    "rubber = sets_parts.loc[sets_parts['part_material'].str.contains('Rubber')]\n",
    "print('rubber.shape:', rubber.shape)\n",
    "rubber.describe()"
   ]
  },
  {
   "cell_type": "code",
   "execution_count": null,
   "id": "aa3b16cf",
   "metadata": {},
   "outputs": [],
   "source": [
    "rubber_sum = rubber.sum(axis=0)\n",
    "rubber_sum[5:6]"
   ]
  },
  {
   "cell_type": "code",
   "execution_count": null,
   "id": "a0e77952",
   "metadata": {},
   "outputs": [],
   "source": [
    "rubber = ['Rubber', 1961, 69, 14320]"
   ]
  },
  {
   "cell_type": "markdown",
   "id": "dfb60fe4",
   "metadata": {},
   "source": [
    "### Rubber started in 1961, in 69 sets totaling 14,320 parts. "
   ]
  },
  {
   "cell_type": "code",
   "execution_count": null,
   "id": "b252c7ed",
   "metadata": {},
   "outputs": [],
   "source": [
    "# cardboard/paper\n",
    "\n",
    "cardboard_paper = sets_parts.loc[sets_parts['part_material'].str.contains('Cardboard/Paper')]\n",
    "print('cardboard_paper.shape:', cardboard_paper.shape)\n",
    "cardboard_paper.describe()"
   ]
  },
  {
   "cell_type": "code",
   "execution_count": null,
   "id": "22daa929",
   "metadata": {},
   "outputs": [],
   "source": [
    "cardboard_paper_sum = cardboard_paper.sum(axis=0)\n",
    "cardboard_paper_sum[5:6]"
   ]
  },
  {
   "cell_type": "code",
   "execution_count": null,
   "id": "06cf3f80",
   "metadata": {},
   "outputs": [],
   "source": [
    "cardbard_paper = ['Cardboard/Paper', 1977, 27, 3843]"
   ]
  },
  {
   "cell_type": "markdown",
   "id": "5dcebbb4",
   "metadata": {},
   "source": [
    "### Cardboard/paper started in 1977, in 27 sets totaling 3,843 parts. "
   ]
  },
  {
   "cell_type": "code",
   "execution_count": null,
   "id": "9eff2fe6",
   "metadata": {},
   "outputs": [],
   "source": [
    "# cloth\n",
    "cloth = sets_parts.loc[sets_parts['part_material'].str.contains('Cloth')]\n",
    "print('cloth.shape:', cloth.shape)\n",
    "cloth.describe()"
   ]
  },
  {
   "cell_type": "code",
   "execution_count": null,
   "id": "43941212",
   "metadata": {},
   "outputs": [],
   "source": [
    "cloth_sum = cloth.sum(axis=0)\n",
    "cloth_sum[5:6]"
   ]
  },
  {
   "cell_type": "code",
   "execution_count": null,
   "id": "2d9686bc",
   "metadata": {},
   "outputs": [],
   "source": [
    "cloth = ['Cloth', 1961, 215, 29695]"
   ]
  },
  {
   "cell_type": "markdown",
   "id": "a3dda9dd",
   "metadata": {},
   "source": [
    "### Cloth started in 1961, in 215 sets totaling 29,695 parts. "
   ]
  },
  {
   "cell_type": "code",
   "execution_count": null,
   "id": "157fb61a",
   "metadata": {},
   "outputs": [],
   "source": [
    "# flexible plastic\n",
    "\n",
    "flexible_plastic = sets_parts.loc[sets_parts['part_material'].str.contains('Flexible Plastic')]\n",
    "print('flexible_plastic.shape:', flexible_plastic.shape)\n",
    "flexible_plastic.describe()"
   ]
  },
  {
   "cell_type": "code",
   "execution_count": null,
   "id": "6d29783f",
   "metadata": {},
   "outputs": [],
   "source": [
    "flexible_plastic_sum = flexible_plastic.sum(axis=0)\n",
    "flexible_plastic_sum[5:6]"
   ]
  },
  {
   "cell_type": "code",
   "execution_count": null,
   "id": "8e9c8820",
   "metadata": {},
   "outputs": [],
   "source": [
    "flexible_plastic = ['Flexible Plastic', 1973, 17, 4627]"
   ]
  },
  {
   "cell_type": "markdown",
   "id": "67018921",
   "metadata": {},
   "source": [
    "### Flexible plastic started in 1973, in 17 sets totaling 4,627 parts. "
   ]
  },
  {
   "cell_type": "code",
   "execution_count": null,
   "id": "e34ea58a",
   "metadata": {},
   "outputs": [],
   "source": [
    "# metal\n",
    "\n",
    "metal = sets_parts.loc[sets_parts['part_material'].str.contains('Metal')]\n",
    "print('metal.shape:', metal.shape)\n",
    "metal.describe()"
   ]
  },
  {
   "cell_type": "code",
   "execution_count": null,
   "id": "ae03082d",
   "metadata": {},
   "outputs": [],
   "source": [
    "metal_sum = metal.sum(axis=0)\n",
    "metal_sum[5:6]"
   ]
  },
  {
   "cell_type": "code",
   "execution_count": null,
   "id": "1b0bc8b6",
   "metadata": {},
   "outputs": [],
   "source": [
    "metal = ['Metal', 2005, 17, 429]"
   ]
  },
  {
   "cell_type": "markdown",
   "id": "4c5602d5",
   "metadata": {},
   "source": [
    "### Metal started in 2005, in 17 sets totaling 429 parts. "
   ]
  },
  {
   "cell_type": "code",
   "execution_count": null,
   "id": "d2e2ec3f",
   "metadata": {},
   "outputs": [],
   "source": [
    "# foam\n",
    "foam = sets_parts.loc[sets_parts['part_material'].str.contains('Foam')]\n",
    "print('foam.shape:', foam.shape)\n",
    "foam.describe()"
   ]
  },
  {
   "cell_type": "code",
   "execution_count": null,
   "id": "088446a4",
   "metadata": {},
   "outputs": [],
   "source": [
    "foam_sum = foam.sum(axis=0)\n",
    "foam_sum[5:6]"
   ]
  },
  {
   "cell_type": "code",
   "execution_count": null,
   "id": "06cd5e18",
   "metadata": {},
   "outputs": [],
   "source": [
    "foam = ['Foam', 1966,18, 15801]"
   ]
  },
  {
   "cell_type": "markdown",
   "id": "0dedc490",
   "metadata": {},
   "source": [
    "### Foam started in 1966, in 18 sets totaling 15,801 parts. "
   ]
  },
  {
   "cell_type": "markdown",
   "id": "2f4bd7d4",
   "metadata": {},
   "source": [
    "## Materials Summary"
   ]
  },
  {
   "cell_type": "code",
   "execution_count": null,
   "id": "791eba76",
   "metadata": {},
   "outputs": [],
   "source": [
    "materials = [plastic, rubber, cardbard_paper, cloth, flexible_plastic, metal, foam]\n",
    "materials_summary = pd.DataFrame(data=materials)\n",
    "materials_summary = materials_summary.rename(columns= {0:'Material', 1:'Year', 2:'Num of Sets', 3:'Total Parts'})\n",
    "materials_summary"
   ]
  },
  {
   "cell_type": "code",
   "execution_count": null,
   "id": "0889a41c",
   "metadata": {},
   "outputs": [],
   "source": [
    "materials_sum = materials_summary.sum(axis=0)\n",
    "materials_sum[2:4]"
   ]
  },
  {
   "cell_type": "code",
   "execution_count": null,
   "id": "5de53282",
   "metadata": {},
   "outputs": [],
   "source": [
    "# 3,844,499"
   ]
  },
  {
   "cell_type": "code",
   "execution_count": null,
   "id": "8ad3a4e1",
   "metadata": {},
   "outputs": [],
   "source": []
  },
  {
   "cell_type": "code",
   "execution_count": null,
   "id": "118f96ca",
   "metadata": {},
   "outputs": [],
   "source": []
  },
  {
   "cell_type": "code",
   "execution_count": null,
   "id": "cbdd8a89",
   "metadata": {},
   "outputs": [],
   "source": []
  },
  {
   "cell_type": "code",
   "execution_count": null,
   "id": "28efed52",
   "metadata": {},
   "outputs": [],
   "source": []
  },
  {
   "cell_type": "code",
   "execution_count": null,
   "id": "51aa56a6",
   "metadata": {},
   "outputs": [],
   "source": []
  },
  {
   "cell_type": "code",
   "execution_count": null,
   "id": "42ba2b19",
   "metadata": {},
   "outputs": [],
   "source": []
  },
  {
   "cell_type": "markdown",
   "id": "054d314d",
   "metadata": {},
   "source": [
    "# Ideas\n",
    "\n",
    "- what's planned for 2025?\n",
    "- historically how much is wood vs plastic?\n",
    "- how much for 2025?\n",
    "- estimate num children potential buyers in 2025\n",
    "- extrapolate amt of plastic saved from future landfill\n"
   ]
  },
  {
   "cell_type": "markdown",
   "id": "cbcff74f",
   "metadata": {},
   "source": [
    "# draft questions"
   ]
  },
  {
   "cell_type": "code",
   "execution_count": null,
   "id": "154cd95a",
   "metadata": {},
   "outputs": [],
   "source": [
    "# what are part_num = ideabooks? \n",
    "\n",
    "ideabook = sets_parts.loc[sets_parts['part_num'].str.contains('ideabook')]\n",
    "ideabook"
   ]
  },
  {
   "cell_type": "code",
   "execution_count": null,
   "id": "15f8e01a",
   "metadata": {},
   "outputs": [],
   "source": [
    "# sets_themes = sets + themes\n",
    "sets_themes = sets.merge(themes, left_on=\"theme_id\", right_on='id')\n",
    "\n",
    "# rename cols\n",
    "sets_themes = (sets_themes.rename(columns={'name_x':'set_name', 'name_y':'theme_name'}))\n",
    "\n",
    "# drop col id\n",
    "sets_themes.drop(columns=['id'])\n",
    "\n",
    "sets_themes.head(2)"
   ]
  },
  {
   "cell_type": "code",
   "execution_count": null,
   "id": "fda88393",
   "metadata": {},
   "outputs": [],
   "source": [
    "# sets_themes_inventories = sets_themes + inventories\n",
    "sets_themes_inventories = sets_themes.merge(inventories, left_on='set_num', right_on='set_num')\n",
    "\n",
    "sets_themes_inventories.head(2)"
   ]
  },
  {
   "cell_type": "code",
   "execution_count": null,
   "id": "e5e3779b",
   "metadata": {},
   "outputs": [],
   "source": []
  },
  {
   "cell_type": "code",
   "execution_count": null,
   "id": "cdbf2890",
   "metadata": {},
   "outputs": [],
   "source": [
    "# inventoryparts_colors = inventory_parts + colors\n",
    "inventoryparts_colors = inventory_parts.merge(colors, left_on='color_id', right_on='id')\n",
    "\n",
    "inventoryparts_colors.head(2)"
   ]
  },
  {
   "cell_type": "code",
   "execution_count": null,
   "id": "049bd3c1",
   "metadata": {},
   "outputs": [],
   "source": [
    "# inventoryparts_colors_parts = inventoryparts_colors + parts\n",
    "inventoryparts_colors_parts = inventoryparts_colors.merge(parts, left_on='part_num', right_on='part_num')\n",
    "\n",
    "# rename cols\n",
    "inventoryparts_colors_parts = (inventoryparts_colors_parts.rename(\n",
    "    columns={'name_x':'color_name','name_y':'part_name'}))\n",
    "\n",
    "inventoryparts_colors_parts.head(2)"
   ]
  },
  {
   "cell_type": "code",
   "execution_count": null,
   "id": "675d0e52",
   "metadata": {},
   "outputs": [],
   "source": []
  },
  {
   "cell_type": "code",
   "execution_count": null,
   "id": "08213279",
   "metadata": {},
   "outputs": [],
   "source": []
  },
  {
   "cell_type": "code",
   "execution_count": null,
   "id": "edadb1c5",
   "metadata": {},
   "outputs": [],
   "source": []
  }
 ],
 "metadata": {
  "kernelspec": {
   "display_name": "Python 3 (ipykernel)",
   "language": "python",
   "name": "python3"
  },
  "language_info": {
   "codemirror_mode": {
    "name": "ipython",
    "version": 3
   },
   "file_extension": ".py",
   "mimetype": "text/x-python",
   "name": "python",
   "nbconvert_exporter": "python",
   "pygments_lexer": "ipython3",
   "version": "3.10.9"
  }
 },
 "nbformat": 4,
 "nbformat_minor": 5
}
