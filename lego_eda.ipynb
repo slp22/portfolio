{
 "cells": [
  {
   "cell_type": "code",
   "execution_count": 2,
   "id": "1fe45bd6",
   "metadata": {},
   "outputs": [],
   "source": [
    "import numpy as np\n",
    "import pandas as pd\n",
    "import matplotlib.pyplot as plt"
   ]
  },
  {
   "cell_type": "code",
   "execution_count": 3,
   "id": "07f1a657",
   "metadata": {},
   "outputs": [],
   "source": [
    "colors = pd.read_csv('/Users/slp22/code/Datasets_5Sep2024/colors.csv')\n",
    "sets = pd.read_csv('/Users/slp22/code/Datasets_5Sep2024/sets.csv')\n",
    "inventory_parts = pd.read_csv('/Users/slp22/code/Datasets_5Sep2024/inventory_parts.csv')\n",
    "inventories = pd.read_csv('/Users/slp22/code/Datasets_5Sep2024/inventories.csv')\n",
    "parts = pd.read_csv('/Users/slp22/code/Datasets_5Sep2024/parts.csv')\n",
    "themes = pd.read_csv('/Users/slp22/code/Datasets_5Sep2024/themes.csv')\n",
    "part_categories = pd.read_csv('/Users/slp22/code/Datasets_5Sep2024/part_categories.csv')\n",
    "inventory_sets = pd.read_csv('/Users/slp22/code/Datasets_5Sep2024/inventory_sets.csv')"
   ]
  },
  {
   "cell_type": "code",
   "execution_count": null,
   "id": "8832092b",
   "metadata": {},
   "outputs": [],
   "source": [
    "colors.head()"
   ]
  },
  {
   "cell_type": "code",
   "execution_count": 4,
   "id": "c187f89d",
   "metadata": {},
   "outputs": [
    {
     "data": {
      "text/html": [
       "<div>\n",
       "<style scoped>\n",
       "    .dataframe tbody tr th:only-of-type {\n",
       "        vertical-align: middle;\n",
       "    }\n",
       "\n",
       "    .dataframe tbody tr th {\n",
       "        vertical-align: top;\n",
       "    }\n",
       "\n",
       "    .dataframe thead th {\n",
       "        text-align: right;\n",
       "    }\n",
       "</style>\n",
       "<table border=\"1\" class=\"dataframe\">\n",
       "  <thead>\n",
       "    <tr style=\"text-align: right;\">\n",
       "      <th></th>\n",
       "      <th>set_num</th>\n",
       "      <th>name</th>\n",
       "      <th>year</th>\n",
       "      <th>theme_id</th>\n",
       "      <th>num_parts</th>\n",
       "      <th>img_url</th>\n",
       "    </tr>\n",
       "  </thead>\n",
       "  <tbody>\n",
       "    <tr>\n",
       "      <th>0</th>\n",
       "      <td>0003977811-1</td>\n",
       "      <td>Ninjago: Book of Adventures</td>\n",
       "      <td>2022</td>\n",
       "      <td>761</td>\n",
       "      <td>1</td>\n",
       "      <td>https://cdn.rebrickable.com/media/sets/0003977...</td>\n",
       "    </tr>\n",
       "    <tr>\n",
       "      <th>1</th>\n",
       "      <td>001-1</td>\n",
       "      <td>Gears</td>\n",
       "      <td>1965</td>\n",
       "      <td>756</td>\n",
       "      <td>43</td>\n",
       "      <td>https://cdn.rebrickable.com/media/sets/001-1.jpg</td>\n",
       "    </tr>\n",
       "    <tr>\n",
       "      <th>2</th>\n",
       "      <td>0011-2</td>\n",
       "      <td>Town Mini-Figures</td>\n",
       "      <td>1979</td>\n",
       "      <td>67</td>\n",
       "      <td>12</td>\n",
       "      <td>https://cdn.rebrickable.com/media/sets/0011-2.jpg</td>\n",
       "    </tr>\n",
       "    <tr>\n",
       "      <th>3</th>\n",
       "      <td>0011-3</td>\n",
       "      <td>Castle 2 for 1 Bonus Offer</td>\n",
       "      <td>1987</td>\n",
       "      <td>199</td>\n",
       "      <td>0</td>\n",
       "      <td>https://cdn.rebrickable.com/media/sets/0011-3.jpg</td>\n",
       "    </tr>\n",
       "    <tr>\n",
       "      <th>4</th>\n",
       "      <td>0012-1</td>\n",
       "      <td>Space Mini-Figures</td>\n",
       "      <td>1979</td>\n",
       "      <td>143</td>\n",
       "      <td>12</td>\n",
       "      <td>https://cdn.rebrickable.com/media/sets/0012-1.jpg</td>\n",
       "    </tr>\n",
       "  </tbody>\n",
       "</table>\n",
       "</div>"
      ],
      "text/plain": [
       "        set_num                         name  year  theme_id  num_parts  \\\n",
       "0  0003977811-1  Ninjago: Book of Adventures  2022       761          1   \n",
       "1         001-1                        Gears  1965       756         43   \n",
       "2        0011-2            Town Mini-Figures  1979        67         12   \n",
       "3        0011-3   Castle 2 for 1 Bonus Offer  1987       199          0   \n",
       "4        0012-1           Space Mini-Figures  1979       143         12   \n",
       "\n",
       "                                             img_url  \n",
       "0  https://cdn.rebrickable.com/media/sets/0003977...  \n",
       "1   https://cdn.rebrickable.com/media/sets/001-1.jpg  \n",
       "2  https://cdn.rebrickable.com/media/sets/0011-2.jpg  \n",
       "3  https://cdn.rebrickable.com/media/sets/0011-3.jpg  \n",
       "4  https://cdn.rebrickable.com/media/sets/0012-1.jpg  "
      ]
     },
     "execution_count": 4,
     "metadata": {},
     "output_type": "execute_result"
    }
   ],
   "source": [
    "sets.head()"
   ]
  },
  {
   "cell_type": "code",
   "execution_count": null,
   "id": "c25bc76d",
   "metadata": {},
   "outputs": [],
   "source": [
    "inventory_parts.head()"
   ]
  },
  {
   "cell_type": "code",
   "execution_count": null,
   "id": "69f52763",
   "metadata": {},
   "outputs": [],
   "source": [
    "inventories.head()"
   ]
  },
  {
   "cell_type": "code",
   "execution_count": 5,
   "id": "8d7126be",
   "metadata": {},
   "outputs": [
    {
     "data": {
      "text/html": [
       "<div>\n",
       "<style scoped>\n",
       "    .dataframe tbody tr th:only-of-type {\n",
       "        vertical-align: middle;\n",
       "    }\n",
       "\n",
       "    .dataframe tbody tr th {\n",
       "        vertical-align: top;\n",
       "    }\n",
       "\n",
       "    .dataframe thead th {\n",
       "        text-align: right;\n",
       "    }\n",
       "</style>\n",
       "<table border=\"1\" class=\"dataframe\">\n",
       "  <thead>\n",
       "    <tr style=\"text-align: right;\">\n",
       "      <th></th>\n",
       "      <th>part_num</th>\n",
       "      <th>name</th>\n",
       "      <th>part_cat_id</th>\n",
       "      <th>part_material</th>\n",
       "    </tr>\n",
       "  </thead>\n",
       "  <tbody>\n",
       "    <tr>\n",
       "      <th>0</th>\n",
       "      <td>003381</td>\n",
       "      <td>Sticker Sheet for Set 663-1</td>\n",
       "      <td>58</td>\n",
       "      <td>Plastic</td>\n",
       "    </tr>\n",
       "    <tr>\n",
       "      <th>1</th>\n",
       "      <td>003383</td>\n",
       "      <td>Sticker Sheet for Sets 618-1, 628-2</td>\n",
       "      <td>58</td>\n",
       "      <td>Plastic</td>\n",
       "    </tr>\n",
       "    <tr>\n",
       "      <th>2</th>\n",
       "      <td>003402</td>\n",
       "      <td>Sticker Sheet for Sets 310-3, 311-1, 312-3</td>\n",
       "      <td>58</td>\n",
       "      <td>Plastic</td>\n",
       "    </tr>\n",
       "    <tr>\n",
       "      <th>3</th>\n",
       "      <td>003429</td>\n",
       "      <td>Sticker Sheet for Set 1550-1</td>\n",
       "      <td>58</td>\n",
       "      <td>Plastic</td>\n",
       "    </tr>\n",
       "    <tr>\n",
       "      <th>4</th>\n",
       "      <td>003432</td>\n",
       "      <td>Sticker Sheet for Sets 357-1, 355-1, 940-1</td>\n",
       "      <td>58</td>\n",
       "      <td>Plastic</td>\n",
       "    </tr>\n",
       "  </tbody>\n",
       "</table>\n",
       "</div>"
      ],
      "text/plain": [
       "  part_num                                        name  part_cat_id  \\\n",
       "0   003381                 Sticker Sheet for Set 663-1           58   \n",
       "1   003383         Sticker Sheet for Sets 618-1, 628-2           58   \n",
       "2   003402  Sticker Sheet for Sets 310-3, 311-1, 312-3           58   \n",
       "3   003429                Sticker Sheet for Set 1550-1           58   \n",
       "4   003432  Sticker Sheet for Sets 357-1, 355-1, 940-1           58   \n",
       "\n",
       "  part_material  \n",
       "0       Plastic  \n",
       "1       Plastic  \n",
       "2       Plastic  \n",
       "3       Plastic  \n",
       "4       Plastic  "
      ]
     },
     "execution_count": 5,
     "metadata": {},
     "output_type": "execute_result"
    }
   ],
   "source": [
    "parts.head()"
   ]
  },
  {
   "cell_type": "code",
   "execution_count": null,
   "id": "9f66db8f",
   "metadata": {},
   "outputs": [],
   "source": [
    "themes.head()"
   ]
  },
  {
   "cell_type": "code",
   "execution_count": null,
   "id": "1b64a32f",
   "metadata": {},
   "outputs": [],
   "source": [
    "part_categories.head()"
   ]
  },
  {
   "cell_type": "code",
   "execution_count": null,
   "id": "02fd8636",
   "metadata": {},
   "outputs": [],
   "source": [
    "inventory_sets.head()"
   ]
  },
  {
   "cell_type": "code",
   "execution_count": 6,
   "id": "c2bb1ebd",
   "metadata": {},
   "outputs": [
    {
     "data": {
      "text/html": [
       "<div>\n",
       "<style scoped>\n",
       "    .dataframe tbody tr th:only-of-type {\n",
       "        vertical-align: middle;\n",
       "    }\n",
       "\n",
       "    .dataframe tbody tr th {\n",
       "        vertical-align: top;\n",
       "    }\n",
       "\n",
       "    .dataframe thead th {\n",
       "        text-align: right;\n",
       "    }\n",
       "</style>\n",
       "<table border=\"1\" class=\"dataframe\">\n",
       "  <thead>\n",
       "    <tr style=\"text-align: right;\">\n",
       "      <th></th>\n",
       "      <th>year</th>\n",
       "      <th>theme_id</th>\n",
       "      <th>num_parts</th>\n",
       "    </tr>\n",
       "  </thead>\n",
       "  <tbody>\n",
       "    <tr>\n",
       "      <th>count</th>\n",
       "      <td>23706.000000</td>\n",
       "      <td>23706.000000</td>\n",
       "      <td>23706.000000</td>\n",
       "    </tr>\n",
       "    <tr>\n",
       "      <th>mean</th>\n",
       "      <td>2008.756939</td>\n",
       "      <td>464.323336</td>\n",
       "      <td>161.978908</td>\n",
       "    </tr>\n",
       "    <tr>\n",
       "      <th>std</th>\n",
       "      <td>13.982874</td>\n",
       "      <td>226.090790</td>\n",
       "      <td>424.193297</td>\n",
       "    </tr>\n",
       "    <tr>\n",
       "      <th>min</th>\n",
       "      <td>1949.000000</td>\n",
       "      <td>1.000000</td>\n",
       "      <td>0.000000</td>\n",
       "    </tr>\n",
       "    <tr>\n",
       "      <th>25%</th>\n",
       "      <td>2002.000000</td>\n",
       "      <td>301.000000</td>\n",
       "      <td>1.000000</td>\n",
       "    </tr>\n",
       "    <tr>\n",
       "      <th>50%</th>\n",
       "      <td>2013.000000</td>\n",
       "      <td>501.000000</td>\n",
       "      <td>28.000000</td>\n",
       "    </tr>\n",
       "    <tr>\n",
       "      <th>75%</th>\n",
       "      <td>2019.000000</td>\n",
       "      <td>671.000000</td>\n",
       "      <td>137.000000</td>\n",
       "    </tr>\n",
       "    <tr>\n",
       "      <th>max</th>\n",
       "      <td>2025.000000</td>\n",
       "      <td>767.000000</td>\n",
       "      <td>11695.000000</td>\n",
       "    </tr>\n",
       "  </tbody>\n",
       "</table>\n",
       "</div>"
      ],
      "text/plain": [
       "               year      theme_id     num_parts\n",
       "count  23706.000000  23706.000000  23706.000000\n",
       "mean    2008.756939    464.323336    161.978908\n",
       "std       13.982874    226.090790    424.193297\n",
       "min     1949.000000      1.000000      0.000000\n",
       "25%     2002.000000    301.000000      1.000000\n",
       "50%     2013.000000    501.000000     28.000000\n",
       "75%     2019.000000    671.000000    137.000000\n",
       "max     2025.000000    767.000000  11695.000000"
      ]
     },
     "execution_count": 6,
     "metadata": {},
     "output_type": "execute_result"
    }
   ],
   "source": [
    "sets.describe()"
   ]
  },
  {
   "cell_type": "code",
   "execution_count": 7,
   "id": "e7318608",
   "metadata": {},
   "outputs": [
    {
     "data": {
      "text/plain": [
       "set_num      object\n",
       "name         object\n",
       "year          int64\n",
       "theme_id      int64\n",
       "num_parts     int64\n",
       "img_url      object\n",
       "dtype: object"
      ]
     },
     "execution_count": 7,
     "metadata": {},
     "output_type": "execute_result"
    }
   ],
   "source": [
    "sets.dtypes"
   ]
  },
  {
   "cell_type": "code",
   "execution_count": 8,
   "id": "cc47804f",
   "metadata": {},
   "outputs": [
    {
     "name": "stdout",
     "output_type": "stream",
     "text": [
      "sets.shape: (23706, 6)\n",
      "parts.shape: (55864, 4)\n"
     ]
    }
   ],
   "source": [
    "# print('colors.shape:', colors.shape)\n",
    "print('sets.shape:', sets.shape)\n",
    "# print('inventory_parts.shape:', inventory_parts.shape)\n",
    "# print('inventories.shape:', inventories.shape)\n",
    "print('parts.shape:', parts.shape)\n",
    "# print('themes.shape:', themes.shape)\n",
    "# print('part_categories.shape:', part_categories.shape)\n",
    "# print('inventory_sets.shape:', inventory_sets.shape)\n"
   ]
  },
  {
   "cell_type": "code",
   "execution_count": 9,
   "id": "8deac4ac",
   "metadata": {},
   "outputs": [
    {
     "name": "stdout",
     "output_type": "stream",
     "text": [
      "sets isnull: \n",
      " set_num      0\n",
      "name         0\n",
      "year         0\n",
      "theme_id     0\n",
      "num_parts    0\n",
      "img_url      0\n",
      "dtype: int64\n",
      "\n",
      "\n",
      "parts isnull: \n",
      " part_num         0\n",
      "name             0\n",
      "part_cat_id      0\n",
      "part_material    0\n",
      "dtype: int64\n",
      "\n",
      "\n"
     ]
    }
   ],
   "source": [
    "# print('colors isnull:','\\n', colors.isnull().sum())\n",
    "# print('\\n')\n",
    "print('sets isnull:','\\n',sets.isnull().sum())\n",
    "print('\\n')\n",
    "# print('inventory_parts isnull:','\\n',inventory_parts.isnull().sum())\n",
    "# print('\\n')\n",
    "# print('inventories isnull:','\\n',inventories.isnull().sum())\n",
    "# print('\\n')\n",
    "print('parts isnull:','\\n',parts.isnull().sum())\n",
    "print('\\n')\n",
    "# print('themes isnull:','\\n',themes.isnull().sum())\n",
    "# print('\\n')\n",
    "# print('part_categories isnull:','\\n',part_categories.isnull().sum())\n",
    "# print('\\n')\n",
    "# print('inventory_sets isnull:','\\n',inventory_sets.isnull().sum())"
   ]
  },
  {
   "cell_type": "code",
   "execution_count": 10,
   "id": "29d51dee",
   "metadata": {},
   "outputs": [
    {
     "data": {
      "text/html": [
       "<div>\n",
       "<style scoped>\n",
       "    .dataframe tbody tr th:only-of-type {\n",
       "        vertical-align: middle;\n",
       "    }\n",
       "\n",
       "    .dataframe tbody tr th {\n",
       "        vertical-align: top;\n",
       "    }\n",
       "\n",
       "    .dataframe thead th {\n",
       "        text-align: right;\n",
       "    }\n",
       "</style>\n",
       "<table border=\"1\" class=\"dataframe\">\n",
       "  <thead>\n",
       "    <tr style=\"text-align: right;\">\n",
       "      <th></th>\n",
       "      <th>year</th>\n",
       "      <th>theme_id</th>\n",
       "      <th>num_parts</th>\n",
       "    </tr>\n",
       "  </thead>\n",
       "  <tbody>\n",
       "    <tr>\n",
       "      <th>count</th>\n",
       "      <td>23706.000000</td>\n",
       "      <td>23706.000000</td>\n",
       "      <td>23706.000000</td>\n",
       "    </tr>\n",
       "    <tr>\n",
       "      <th>mean</th>\n",
       "      <td>2008.756939</td>\n",
       "      <td>464.323336</td>\n",
       "      <td>161.978908</td>\n",
       "    </tr>\n",
       "    <tr>\n",
       "      <th>std</th>\n",
       "      <td>13.982874</td>\n",
       "      <td>226.090790</td>\n",
       "      <td>424.193297</td>\n",
       "    </tr>\n",
       "    <tr>\n",
       "      <th>min</th>\n",
       "      <td>1949.000000</td>\n",
       "      <td>1.000000</td>\n",
       "      <td>0.000000</td>\n",
       "    </tr>\n",
       "    <tr>\n",
       "      <th>25%</th>\n",
       "      <td>2002.000000</td>\n",
       "      <td>301.000000</td>\n",
       "      <td>1.000000</td>\n",
       "    </tr>\n",
       "    <tr>\n",
       "      <th>50%</th>\n",
       "      <td>2013.000000</td>\n",
       "      <td>501.000000</td>\n",
       "      <td>28.000000</td>\n",
       "    </tr>\n",
       "    <tr>\n",
       "      <th>75%</th>\n",
       "      <td>2019.000000</td>\n",
       "      <td>671.000000</td>\n",
       "      <td>137.000000</td>\n",
       "    </tr>\n",
       "    <tr>\n",
       "      <th>max</th>\n",
       "      <td>2025.000000</td>\n",
       "      <td>767.000000</td>\n",
       "      <td>11695.000000</td>\n",
       "    </tr>\n",
       "  </tbody>\n",
       "</table>\n",
       "</div>"
      ],
      "text/plain": [
       "               year      theme_id     num_parts\n",
       "count  23706.000000  23706.000000  23706.000000\n",
       "mean    2008.756939    464.323336    161.978908\n",
       "std       13.982874    226.090790    424.193297\n",
       "min     1949.000000      1.000000      0.000000\n",
       "25%     2002.000000    301.000000      1.000000\n",
       "50%     2013.000000    501.000000     28.000000\n",
       "75%     2019.000000    671.000000    137.000000\n",
       "max     2025.000000    767.000000  11695.000000"
      ]
     },
     "execution_count": 10,
     "metadata": {},
     "output_type": "execute_result"
    }
   ],
   "source": [
    "sets.describe()"
   ]
  },
  {
   "cell_type": "code",
   "execution_count": 11,
   "id": "6a24e46c",
   "metadata": {},
   "outputs": [
    {
     "data": {
      "text/html": [
       "<div>\n",
       "<style scoped>\n",
       "    .dataframe tbody tr th:only-of-type {\n",
       "        vertical-align: middle;\n",
       "    }\n",
       "\n",
       "    .dataframe tbody tr th {\n",
       "        vertical-align: top;\n",
       "    }\n",
       "\n",
       "    .dataframe thead th {\n",
       "        text-align: right;\n",
       "    }\n",
       "</style>\n",
       "<table border=\"1\" class=\"dataframe\">\n",
       "  <thead>\n",
       "    <tr style=\"text-align: right;\">\n",
       "      <th></th>\n",
       "      <th>part_cat_id</th>\n",
       "    </tr>\n",
       "  </thead>\n",
       "  <tbody>\n",
       "    <tr>\n",
       "      <th>count</th>\n",
       "      <td>55864.000000</td>\n",
       "    </tr>\n",
       "    <tr>\n",
       "      <th>mean</th>\n",
       "      <td>39.187509</td>\n",
       "    </tr>\n",
       "    <tr>\n",
       "      <th>std</th>\n",
       "      <td>22.106496</td>\n",
       "    </tr>\n",
       "    <tr>\n",
       "      <th>min</th>\n",
       "      <td>1.000000</td>\n",
       "    </tr>\n",
       "    <tr>\n",
       "      <th>25%</th>\n",
       "      <td>17.000000</td>\n",
       "    </tr>\n",
       "    <tr>\n",
       "      <th>50%</th>\n",
       "      <td>42.000000</td>\n",
       "    </tr>\n",
       "    <tr>\n",
       "      <th>75%</th>\n",
       "      <td>60.000000</td>\n",
       "    </tr>\n",
       "    <tr>\n",
       "      <th>max</th>\n",
       "      <td>69.000000</td>\n",
       "    </tr>\n",
       "  </tbody>\n",
       "</table>\n",
       "</div>"
      ],
      "text/plain": [
       "        part_cat_id\n",
       "count  55864.000000\n",
       "mean      39.187509\n",
       "std       22.106496\n",
       "min        1.000000\n",
       "25%       17.000000\n",
       "50%       42.000000\n",
       "75%       60.000000\n",
       "max       69.000000"
      ]
     },
     "execution_count": 11,
     "metadata": {},
     "output_type": "execute_result"
    }
   ],
   "source": [
    "parts.describe()"
   ]
  },
  {
   "cell_type": "code",
   "execution_count": null,
   "id": "3110c8d1",
   "metadata": {},
   "outputs": [],
   "source": [
    "# what were the first few years?\n",
    "\n",
    "# early_sets = sets.sort_values(by=['year'])\n",
    "# early_sets.head(20)\n",
    "early_sets = sets[sets['year'] < 1951]\n",
    "early_sets"
   ]
  },
  {
   "cell_type": "code",
   "execution_count": null,
   "id": "cfd54ff5",
   "metadata": {},
   "outputs": [],
   "source": [
    "# what's planned for 2025?\n",
    "yr_2025 = sets[sets['year'] > 2024]\n",
    "yr_2025"
   ]
  },
  {
   "cell_type": "code",
   "execution_count": null,
   "id": "851b70f3",
   "metadata": {},
   "outputs": [],
   "source": [
    "# what items have num_parts=0?\n",
    "zero_parts = sets[sets['num_parts'] < 1]\n",
    "# zero_parts"
   ]
  },
  {
   "cell_type": "code",
   "execution_count": 36,
   "id": "5470af00",
   "metadata": {},
   "outputs": [],
   "source": [
    "# parts.sort_values(by='part_material')"
   ]
  },
  {
   "cell_type": "code",
   "execution_count": 33,
   "id": "25e352a5",
   "metadata": {},
   "outputs": [
    {
     "data": {
      "text/html": [
       "<div>\n",
       "<style scoped>\n",
       "    .dataframe tbody tr th:only-of-type {\n",
       "        vertical-align: middle;\n",
       "    }\n",
       "\n",
       "    .dataframe tbody tr th {\n",
       "        vertical-align: top;\n",
       "    }\n",
       "\n",
       "    .dataframe thead th {\n",
       "        text-align: right;\n",
       "    }\n",
       "</style>\n",
       "<table border=\"1\" class=\"dataframe\">\n",
       "  <thead>\n",
       "    <tr style=\"text-align: right;\">\n",
       "      <th></th>\n",
       "      <th>set_num</th>\n",
       "      <th>name_sets</th>\n",
       "      <th>year</th>\n",
       "      <th>theme_id</th>\n",
       "      <th>num_parts</th>\n",
       "      <th>img_url</th>\n",
       "      <th>part_num</th>\n",
       "      <th>name_parts</th>\n",
       "      <th>part_cat_id</th>\n",
       "      <th>part_material</th>\n",
       "    </tr>\n",
       "  </thead>\n",
       "  <tbody>\n",
       "    <tr>\n",
       "      <th>0</th>\n",
       "      <td>0003977811-1</td>\n",
       "      <td>Ninjago: Book of Adventures</td>\n",
       "      <td>2022</td>\n",
       "      <td>761</td>\n",
       "      <td>1</td>\n",
       "      <td>https://cdn.rebrickable.com/media/sets/0003977...</td>\n",
       "      <td>003381</td>\n",
       "      <td>Sticker Sheet for Set 663-1</td>\n",
       "      <td>58</td>\n",
       "      <td>Plastic</td>\n",
       "    </tr>\n",
       "    <tr>\n",
       "      <th>1</th>\n",
       "      <td>001-1</td>\n",
       "      <td>Gears</td>\n",
       "      <td>1965</td>\n",
       "      <td>756</td>\n",
       "      <td>43</td>\n",
       "      <td>https://cdn.rebrickable.com/media/sets/001-1.jpg</td>\n",
       "      <td>003383</td>\n",
       "      <td>Sticker Sheet for Sets 618-1, 628-2</td>\n",
       "      <td>58</td>\n",
       "      <td>Plastic</td>\n",
       "    </tr>\n",
       "  </tbody>\n",
       "</table>\n",
       "</div>"
      ],
      "text/plain": [
       "        set_num                    name_sets  year  theme_id  num_parts  \\\n",
       "0  0003977811-1  Ninjago: Book of Adventures  2022       761          1   \n",
       "1         001-1                        Gears  1965       756         43   \n",
       "\n",
       "                                             img_url part_num  \\\n",
       "0  https://cdn.rebrickable.com/media/sets/0003977...   003381   \n",
       "1   https://cdn.rebrickable.com/media/sets/001-1.jpg   003383   \n",
       "\n",
       "                            name_parts  part_cat_id part_material  \n",
       "0          Sticker Sheet for Set 663-1           58       Plastic  \n",
       "1  Sticker Sheet for Sets 618-1, 628-2           58       Plastic  "
      ]
     },
     "execution_count": 33,
     "metadata": {},
     "output_type": "execute_result"
    }
   ],
   "source": [
    "# sets_parts = sets(year) + parts(materials)\n",
    "# DataFrame.join(other, on=None, how='left', lsuffix='', rsuffix='', sort=False, validate=None)\n",
    "# https://pandas.pydata.org/docs/reference/api/pandas.DataFrame.join.html#pandas.DataFrame.join\n",
    "\n",
    "sets_parts = sets.join(parts, lsuffix='_sets', \n",
    "                       rsuffix='_parts', how='left')\n",
    "sets_parts.head(2)"
   ]
  },
  {
   "cell_type": "code",
   "execution_count": 34,
   "id": "18a00ba2",
   "metadata": {},
   "outputs": [
    {
     "name": "stdout",
     "output_type": "stream",
     "text": [
      "               year      theme_id     num_parts   part_cat_id\n",
      "count  23706.000000  23706.000000  23706.000000  23706.000000\n",
      "mean    2008.756939    464.323336    161.978908     38.018392\n",
      "std       13.982874    226.090790    424.193297     22.736626\n",
      "min     1949.000000      1.000000      0.000000      1.000000\n",
      "25%     2002.000000    301.000000      1.000000     19.000000\n",
      "50%     2013.000000    501.000000     28.000000     38.000000\n",
      "75%     2019.000000    671.000000    137.000000     59.000000\n",
      "max     2025.000000    767.000000  11695.000000     69.000000\n",
      "sets_parts.shape (23706, 10)\n"
     ]
    }
   ],
   "source": [
    "print(sets_parts.describe())\n",
    "print('sets_parts.shape', sets_parts.shape)"
   ]
  },
  {
   "cell_type": "code",
   "execution_count": 38,
   "id": "1a314e29",
   "metadata": {},
   "outputs": [
    {
     "data": {
      "text/html": [
       "<div>\n",
       "<style scoped>\n",
       "    .dataframe tbody tr th:only-of-type {\n",
       "        vertical-align: middle;\n",
       "    }\n",
       "\n",
       "    .dataframe tbody tr th {\n",
       "        vertical-align: top;\n",
       "    }\n",
       "\n",
       "    .dataframe thead th {\n",
       "        text-align: right;\n",
       "    }\n",
       "</style>\n",
       "<table border=\"1\" class=\"dataframe\">\n",
       "  <thead>\n",
       "    <tr style=\"text-align: right;\">\n",
       "      <th></th>\n",
       "      <th>year</th>\n",
       "      <th>part_material</th>\n",
       "      <th>name_sets</th>\n",
       "      <th>name_parts</th>\n",
       "      <th>set_num</th>\n",
       "      <th>num_parts</th>\n",
       "      <th>part_num</th>\n",
       "      <th>theme_id</th>\n",
       "      <th>part_cat_id</th>\n",
       "      <th>img_url</th>\n",
       "    </tr>\n",
       "  </thead>\n",
       "  <tbody>\n",
       "    <tr>\n",
       "      <th>0</th>\n",
       "      <td>2022</td>\n",
       "      <td>Plastic</td>\n",
       "      <td>Ninjago: Book of Adventures</td>\n",
       "      <td>Sticker Sheet for Set 663-1</td>\n",
       "      <td>0003977811-1</td>\n",
       "      <td>1</td>\n",
       "      <td>003381</td>\n",
       "      <td>761</td>\n",
       "      <td>58</td>\n",
       "      <td>https://cdn.rebrickable.com/media/sets/0003977...</td>\n",
       "    </tr>\n",
       "    <tr>\n",
       "      <th>1</th>\n",
       "      <td>1965</td>\n",
       "      <td>Plastic</td>\n",
       "      <td>Gears</td>\n",
       "      <td>Sticker Sheet for Sets 618-1, 628-2</td>\n",
       "      <td>001-1</td>\n",
       "      <td>43</td>\n",
       "      <td>003383</td>\n",
       "      <td>756</td>\n",
       "      <td>58</td>\n",
       "      <td>https://cdn.rebrickable.com/media/sets/001-1.jpg</td>\n",
       "    </tr>\n",
       "  </tbody>\n",
       "</table>\n",
       "</div>"
      ],
      "text/plain": [
       "   year part_material                    name_sets  \\\n",
       "0  2022       Plastic  Ninjago: Book of Adventures   \n",
       "1  1965       Plastic                        Gears   \n",
       "\n",
       "                            name_parts       set_num  num_parts part_num  \\\n",
       "0          Sticker Sheet for Set 663-1  0003977811-1          1   003381   \n",
       "1  Sticker Sheet for Sets 618-1, 628-2         001-1         43   003383   \n",
       "\n",
       "   theme_id  part_cat_id                                            img_url  \n",
       "0       761           58  https://cdn.rebrickable.com/media/sets/0003977...  \n",
       "1       756           58   https://cdn.rebrickable.com/media/sets/001-1.jpg  "
      ]
     },
     "execution_count": 38,
     "metadata": {},
     "output_type": "execute_result"
    }
   ],
   "source": [
    "# reorder columns with df.loc[:,['col_name']]\n",
    "\n",
    "sets_parts = sets_parts.loc[:,['year','part_material','name_sets','name_parts',   'set_num', 'num_parts','part_num', \n",
    "                               'theme_id', 'part_cat_id', 'img_url']]\n",
    "sets_parts.head(2)"
   ]
  },
  {
   "cell_type": "markdown",
   "id": "34316a69",
   "metadata": {},
   "source": [
    "# Materials"
   ]
  },
  {
   "cell_type": "markdown",
   "id": "c8eea601",
   "metadata": {},
   "source": [
    "## What materials does Lego use?\n"
   ]
  },
  {
   "cell_type": "code",
   "execution_count": 117,
   "id": "d6322235",
   "metadata": {},
   "outputs": [
    {
     "name": "stdout",
     "output_type": "stream",
     "text": [
      "Materials: ['Plastic', 'Rubber', 'Cardboard/Paper', 'Cloth', 'Flexible Plastic', 'Metal', 'Foam']\n"
     ]
    }
   ],
   "source": [
    "# materials\n",
    "\n",
    "materials = []\n",
    "\n",
    "for i in range(0, len(parts['part_material'])):\n",
    "    if parts['part_material'][i] not in materials:\n",
    "        materials.append(parts['part_material'][i])\n",
    "print(\"Materials:\", materials)"
   ]
  },
  {
   "cell_type": "markdown",
   "id": "ed7176f5",
   "metadata": {},
   "source": [
    "## When did Lego introduce new materials? In how many sets? How many parts total? "
   ]
  },
  {
   "cell_type": "code",
   "execution_count": 118,
   "id": "5e13728b",
   "metadata": {},
   "outputs": [
    {
     "name": "stdout",
     "output_type": "stream",
     "text": [
      "plastic.shape (23373, 10)\n"
     ]
    },
    {
     "data": {
      "text/html": [
       "<div>\n",
       "<style scoped>\n",
       "    .dataframe tbody tr th:only-of-type {\n",
       "        vertical-align: middle;\n",
       "    }\n",
       "\n",
       "    .dataframe tbody tr th {\n",
       "        vertical-align: top;\n",
       "    }\n",
       "\n",
       "    .dataframe thead th {\n",
       "        text-align: right;\n",
       "    }\n",
       "</style>\n",
       "<table border=\"1\" class=\"dataframe\">\n",
       "  <thead>\n",
       "    <tr style=\"text-align: right;\">\n",
       "      <th></th>\n",
       "      <th>year</th>\n",
       "      <th>num_parts</th>\n",
       "      <th>theme_id</th>\n",
       "      <th>part_cat_id</th>\n",
       "    </tr>\n",
       "  </thead>\n",
       "  <tbody>\n",
       "    <tr>\n",
       "      <th>count</th>\n",
       "      <td>23373.000000</td>\n",
       "      <td>23373.000000</td>\n",
       "      <td>23373.000000</td>\n",
       "      <td>23373.000000</td>\n",
       "    </tr>\n",
       "    <tr>\n",
       "      <th>mean</th>\n",
       "      <td>2008.781372</td>\n",
       "      <td>161.544688</td>\n",
       "      <td>464.896804</td>\n",
       "      <td>38.107089</td>\n",
       "    </tr>\n",
       "    <tr>\n",
       "      <th>std</th>\n",
       "      <td>13.980648</td>\n",
       "      <td>423.984818</td>\n",
       "      <td>225.908154</td>\n",
       "      <td>22.830711</td>\n",
       "    </tr>\n",
       "    <tr>\n",
       "      <th>min</th>\n",
       "      <td>1949.000000</td>\n",
       "      <td>0.000000</td>\n",
       "      <td>1.000000</td>\n",
       "      <td>1.000000</td>\n",
       "    </tr>\n",
       "    <tr>\n",
       "      <th>25%</th>\n",
       "      <td>2002.000000</td>\n",
       "      <td>1.000000</td>\n",
       "      <td>301.000000</td>\n",
       "      <td>19.000000</td>\n",
       "    </tr>\n",
       "    <tr>\n",
       "      <th>50%</th>\n",
       "      <td>2013.000000</td>\n",
       "      <td>28.000000</td>\n",
       "      <td>501.000000</td>\n",
       "      <td>40.000000</td>\n",
       "    </tr>\n",
       "    <tr>\n",
       "      <th>75%</th>\n",
       "      <td>2019.000000</td>\n",
       "      <td>136.000000</td>\n",
       "      <td>672.000000</td>\n",
       "      <td>59.000000</td>\n",
       "    </tr>\n",
       "    <tr>\n",
       "      <th>max</th>\n",
       "      <td>2025.000000</td>\n",
       "      <td>11695.000000</td>\n",
       "      <td>767.000000</td>\n",
       "      <td>69.000000</td>\n",
       "    </tr>\n",
       "  </tbody>\n",
       "</table>\n",
       "</div>"
      ],
      "text/plain": [
       "               year     num_parts      theme_id   part_cat_id\n",
       "count  23373.000000  23373.000000  23373.000000  23373.000000\n",
       "mean    2008.781372    161.544688    464.896804     38.107089\n",
       "std       13.980648    423.984818    225.908154     22.830711\n",
       "min     1949.000000      0.000000      1.000000      1.000000\n",
       "25%     2002.000000      1.000000    301.000000     19.000000\n",
       "50%     2013.000000     28.000000    501.000000     40.000000\n",
       "75%     2019.000000    136.000000    672.000000     59.000000\n",
       "max     2025.000000  11695.000000    767.000000     69.000000"
      ]
     },
     "execution_count": 118,
     "metadata": {},
     "output_type": "execute_result"
    }
   ],
   "source": [
    "# plastic \n",
    "\n",
    "plastic = sets_parts.loc[sets_parts['part_material'].str.contains('Plastic')]\n",
    "print('plastic.shape', plastic.shape)\n",
    "plastic.describe()"
   ]
  },
  {
   "cell_type": "code",
   "execution_count": 119,
   "id": "6ed612d0",
   "metadata": {},
   "outputs": [
    {
     "data": {
      "text/plain": [
       "num_parts    3775784\n",
       "dtype: object"
      ]
     },
     "execution_count": 119,
     "metadata": {},
     "output_type": "execute_result"
    }
   ],
   "source": [
    "plastic_sum = plastic.sum(axis=0)\n",
    "plastic_sum[5:6]"
   ]
  },
  {
   "cell_type": "code",
   "execution_count": 120,
   "id": "8515bb88",
   "metadata": {},
   "outputs": [],
   "source": [
    "plastic = ['Plastic', 1949, 23373, 3775784]"
   ]
  },
  {
   "cell_type": "markdown",
   "id": "8df62b38",
   "metadata": {},
   "source": [
    "### Plastic started in 1949, in 23,373 sets totaling 3,775,784 parts.  "
   ]
  },
  {
   "cell_type": "code",
   "execution_count": 121,
   "id": "d849a5bf",
   "metadata": {},
   "outputs": [
    {
     "name": "stdout",
     "output_type": "stream",
     "text": [
      "rubber.shape: (69, 10)\n"
     ]
    },
    {
     "data": {
      "text/html": [
       "<div>\n",
       "<style scoped>\n",
       "    .dataframe tbody tr th:only-of-type {\n",
       "        vertical-align: middle;\n",
       "    }\n",
       "\n",
       "    .dataframe tbody tr th {\n",
       "        vertical-align: top;\n",
       "    }\n",
       "\n",
       "    .dataframe thead th {\n",
       "        text-align: right;\n",
       "    }\n",
       "</style>\n",
       "<table border=\"1\" class=\"dataframe\">\n",
       "  <thead>\n",
       "    <tr style=\"text-align: right;\">\n",
       "      <th></th>\n",
       "      <th>year</th>\n",
       "      <th>num_parts</th>\n",
       "      <th>theme_id</th>\n",
       "      <th>part_cat_id</th>\n",
       "    </tr>\n",
       "  </thead>\n",
       "  <tbody>\n",
       "    <tr>\n",
       "      <th>count</th>\n",
       "      <td>69.000000</td>\n",
       "      <td>69.000000</td>\n",
       "      <td>69.000000</td>\n",
       "      <td>69.000000</td>\n",
       "    </tr>\n",
       "    <tr>\n",
       "      <th>mean</th>\n",
       "      <td>2007.565217</td>\n",
       "      <td>207.536232</td>\n",
       "      <td>436.956522</td>\n",
       "      <td>34.623188</td>\n",
       "    </tr>\n",
       "    <tr>\n",
       "      <th>std</th>\n",
       "      <td>15.667950</td>\n",
       "      <td>308.334882</td>\n",
       "      <td>236.824360</td>\n",
       "      <td>15.490131</td>\n",
       "    </tr>\n",
       "    <tr>\n",
       "      <th>min</th>\n",
       "      <td>1961.000000</td>\n",
       "      <td>0.000000</td>\n",
       "      <td>1.000000</td>\n",
       "      <td>4.000000</td>\n",
       "    </tr>\n",
       "    <tr>\n",
       "      <th>25%</th>\n",
       "      <td>2002.000000</td>\n",
       "      <td>12.000000</td>\n",
       "      <td>228.000000</td>\n",
       "      <td>29.000000</td>\n",
       "    </tr>\n",
       "    <tr>\n",
       "      <th>50%</th>\n",
       "      <td>2014.000000</td>\n",
       "      <td>66.000000</td>\n",
       "      <td>467.000000</td>\n",
       "      <td>29.000000</td>\n",
       "    </tr>\n",
       "    <tr>\n",
       "      <th>75%</th>\n",
       "      <td>2020.000000</td>\n",
       "      <td>318.000000</td>\n",
       "      <td>632.000000</td>\n",
       "      <td>29.000000</td>\n",
       "    </tr>\n",
       "    <tr>\n",
       "      <th>max</th>\n",
       "      <td>2024.000000</td>\n",
       "      <td>1709.000000</td>\n",
       "      <td>759.000000</td>\n",
       "      <td>65.000000</td>\n",
       "    </tr>\n",
       "  </tbody>\n",
       "</table>\n",
       "</div>"
      ],
      "text/plain": [
       "              year    num_parts    theme_id  part_cat_id\n",
       "count    69.000000    69.000000   69.000000    69.000000\n",
       "mean   2007.565217   207.536232  436.956522    34.623188\n",
       "std      15.667950   308.334882  236.824360    15.490131\n",
       "min    1961.000000     0.000000    1.000000     4.000000\n",
       "25%    2002.000000    12.000000  228.000000    29.000000\n",
       "50%    2014.000000    66.000000  467.000000    29.000000\n",
       "75%    2020.000000   318.000000  632.000000    29.000000\n",
       "max    2024.000000  1709.000000  759.000000    65.000000"
      ]
     },
     "execution_count": 121,
     "metadata": {},
     "output_type": "execute_result"
    }
   ],
   "source": [
    "# rubber\n",
    "\n",
    "rubber = sets_parts.loc[sets_parts['part_material'].str.contains('Rubber')]\n",
    "print('rubber.shape:', rubber.shape)\n",
    "rubber.describe()"
   ]
  },
  {
   "cell_type": "code",
   "execution_count": 122,
   "id": "081692e6",
   "metadata": {},
   "outputs": [
    {
     "data": {
      "text/plain": [
       "num_parts    14320\n",
       "dtype: object"
      ]
     },
     "execution_count": 122,
     "metadata": {},
     "output_type": "execute_result"
    }
   ],
   "source": [
    "rubber_sum = rubber.sum(axis=0)\n",
    "rubber_sum[5:6]"
   ]
  },
  {
   "cell_type": "code",
   "execution_count": 123,
   "id": "bf047588",
   "metadata": {},
   "outputs": [],
   "source": [
    "rubber = ['Rubber', 1961, 69, 14320]"
   ]
  },
  {
   "cell_type": "markdown",
   "id": "b9fe6f5f",
   "metadata": {},
   "source": [
    "### Rubber started in 1961, in 69 sets totaling 14,320 parts. "
   ]
  },
  {
   "cell_type": "code",
   "execution_count": 124,
   "id": "e86916cd",
   "metadata": {},
   "outputs": [
    {
     "name": "stdout",
     "output_type": "stream",
     "text": [
      "cardboard_paper.shape: (27, 10)\n"
     ]
    },
    {
     "data": {
      "text/html": [
       "<div>\n",
       "<style scoped>\n",
       "    .dataframe tbody tr th:only-of-type {\n",
       "        vertical-align: middle;\n",
       "    }\n",
       "\n",
       "    .dataframe tbody tr th {\n",
       "        vertical-align: top;\n",
       "    }\n",
       "\n",
       "    .dataframe thead th {\n",
       "        text-align: right;\n",
       "    }\n",
       "</style>\n",
       "<table border=\"1\" class=\"dataframe\">\n",
       "  <thead>\n",
       "    <tr style=\"text-align: right;\">\n",
       "      <th></th>\n",
       "      <th>year</th>\n",
       "      <th>num_parts</th>\n",
       "      <th>theme_id</th>\n",
       "      <th>part_cat_id</th>\n",
       "    </tr>\n",
       "  </thead>\n",
       "  <tbody>\n",
       "    <tr>\n",
       "      <th>count</th>\n",
       "      <td>27.000000</td>\n",
       "      <td>27.000000</td>\n",
       "      <td>27.000000</td>\n",
       "      <td>27.0</td>\n",
       "    </tr>\n",
       "    <tr>\n",
       "      <th>mean</th>\n",
       "      <td>2012.407407</td>\n",
       "      <td>142.333333</td>\n",
       "      <td>488.407407</td>\n",
       "      <td>17.0</td>\n",
       "    </tr>\n",
       "    <tr>\n",
       "      <th>std</th>\n",
       "      <td>12.125178</td>\n",
       "      <td>477.610479</td>\n",
       "      <td>197.318029</td>\n",
       "      <td>0.0</td>\n",
       "    </tr>\n",
       "    <tr>\n",
       "      <th>min</th>\n",
       "      <td>1977.000000</td>\n",
       "      <td>0.000000</td>\n",
       "      <td>94.000000</td>\n",
       "      <td>17.0</td>\n",
       "    </tr>\n",
       "    <tr>\n",
       "      <th>25%</th>\n",
       "      <td>2006.000000</td>\n",
       "      <td>0.000000</td>\n",
       "      <td>398.000000</td>\n",
       "      <td>17.0</td>\n",
       "    </tr>\n",
       "    <tr>\n",
       "      <th>50%</th>\n",
       "      <td>2016.000000</td>\n",
       "      <td>10.000000</td>\n",
       "      <td>503.000000</td>\n",
       "      <td>17.0</td>\n",
       "    </tr>\n",
       "    <tr>\n",
       "      <th>75%</th>\n",
       "      <td>2021.000000</td>\n",
       "      <td>57.500000</td>\n",
       "      <td>618.000000</td>\n",
       "      <td>17.0</td>\n",
       "    </tr>\n",
       "    <tr>\n",
       "      <th>max</th>\n",
       "      <td>2024.000000</td>\n",
       "      <td>2438.000000</td>\n",
       "      <td>742.000000</td>\n",
       "      <td>17.0</td>\n",
       "    </tr>\n",
       "  </tbody>\n",
       "</table>\n",
       "</div>"
      ],
      "text/plain": [
       "              year    num_parts    theme_id  part_cat_id\n",
       "count    27.000000    27.000000   27.000000         27.0\n",
       "mean   2012.407407   142.333333  488.407407         17.0\n",
       "std      12.125178   477.610479  197.318029          0.0\n",
       "min    1977.000000     0.000000   94.000000         17.0\n",
       "25%    2006.000000     0.000000  398.000000         17.0\n",
       "50%    2016.000000    10.000000  503.000000         17.0\n",
       "75%    2021.000000    57.500000  618.000000         17.0\n",
       "max    2024.000000  2438.000000  742.000000         17.0"
      ]
     },
     "execution_count": 124,
     "metadata": {},
     "output_type": "execute_result"
    }
   ],
   "source": [
    "# cardboard/paper\n",
    "\n",
    "cardboard_paper = sets_parts.loc[sets_parts['part_material'].str.contains('Cardboard/Paper')]\n",
    "print('cardboard_paper.shape:', cardboard_paper.shape)\n",
    "cardboard_paper.describe()"
   ]
  },
  {
   "cell_type": "code",
   "execution_count": 125,
   "id": "0af1d2c1",
   "metadata": {},
   "outputs": [
    {
     "data": {
      "text/plain": [
       "num_parts    3843\n",
       "dtype: object"
      ]
     },
     "execution_count": 125,
     "metadata": {},
     "output_type": "execute_result"
    }
   ],
   "source": [
    "cardboard_paper_sum = cardboard_paper.sum(axis=0)\n",
    "cardboard_paper_sum[5:6]"
   ]
  },
  {
   "cell_type": "code",
   "execution_count": 126,
   "id": "31e80322",
   "metadata": {},
   "outputs": [],
   "source": [
    "cardbard_paper = ['Cardboard/Paper', 1977, 27, 3843]"
   ]
  },
  {
   "cell_type": "markdown",
   "id": "c3d55eb1",
   "metadata": {},
   "source": [
    "### Cardboard/paper started in 1977, in 27 sets totaling 3,843 parts. "
   ]
  },
  {
   "cell_type": "code",
   "execution_count": 127,
   "id": "712c5511",
   "metadata": {},
   "outputs": [
    {
     "name": "stdout",
     "output_type": "stream",
     "text": [
      "cloth.shape: (215, 10)\n"
     ]
    },
    {
     "data": {
      "text/html": [
       "<div>\n",
       "<style scoped>\n",
       "    .dataframe tbody tr th:only-of-type {\n",
       "        vertical-align: middle;\n",
       "    }\n",
       "\n",
       "    .dataframe tbody tr th {\n",
       "        vertical-align: top;\n",
       "    }\n",
       "\n",
       "    .dataframe thead th {\n",
       "        text-align: right;\n",
       "    }\n",
       "</style>\n",
       "<table border=\"1\" class=\"dataframe\">\n",
       "  <thead>\n",
       "    <tr style=\"text-align: right;\">\n",
       "      <th></th>\n",
       "      <th>year</th>\n",
       "      <th>num_parts</th>\n",
       "      <th>theme_id</th>\n",
       "      <th>part_cat_id</th>\n",
       "    </tr>\n",
       "  </thead>\n",
       "  <tbody>\n",
       "    <tr>\n",
       "      <th>count</th>\n",
       "      <td>215.000000</td>\n",
       "      <td>215.000000</td>\n",
       "      <td>215.000000</td>\n",
       "      <td>215.000000</td>\n",
       "    </tr>\n",
       "    <tr>\n",
       "      <th>mean</th>\n",
       "      <td>2005.418605</td>\n",
       "      <td>138.116279</td>\n",
       "      <td>438.641860</td>\n",
       "      <td>32.097674</td>\n",
       "    </tr>\n",
       "    <tr>\n",
       "      <th>std</th>\n",
       "      <td>13.562993</td>\n",
       "      <td>274.765763</td>\n",
       "      <td>220.543058</td>\n",
       "      <td>12.384975</td>\n",
       "    </tr>\n",
       "    <tr>\n",
       "      <th>min</th>\n",
       "      <td>1961.000000</td>\n",
       "      <td>0.000000</td>\n",
       "      <td>1.000000</td>\n",
       "      <td>4.000000</td>\n",
       "    </tr>\n",
       "    <tr>\n",
       "      <th>25%</th>\n",
       "      <td>1996.000000</td>\n",
       "      <td>0.500000</td>\n",
       "      <td>236.000000</td>\n",
       "      <td>38.000000</td>\n",
       "    </tr>\n",
       "    <tr>\n",
       "      <th>50%</th>\n",
       "      <td>2008.000000</td>\n",
       "      <td>31.000000</td>\n",
       "      <td>467.000000</td>\n",
       "      <td>38.000000</td>\n",
       "    </tr>\n",
       "    <tr>\n",
       "      <th>75%</th>\n",
       "      <td>2017.000000</td>\n",
       "      <td>146.000000</td>\n",
       "      <td>601.000000</td>\n",
       "      <td>38.000000</td>\n",
       "    </tr>\n",
       "    <tr>\n",
       "      <th>max</th>\n",
       "      <td>2024.000000</td>\n",
       "      <td>2048.000000</td>\n",
       "      <td>760.000000</td>\n",
       "      <td>42.000000</td>\n",
       "    </tr>\n",
       "  </tbody>\n",
       "</table>\n",
       "</div>"
      ],
      "text/plain": [
       "              year    num_parts    theme_id  part_cat_id\n",
       "count   215.000000   215.000000  215.000000   215.000000\n",
       "mean   2005.418605   138.116279  438.641860    32.097674\n",
       "std      13.562993   274.765763  220.543058    12.384975\n",
       "min    1961.000000     0.000000    1.000000     4.000000\n",
       "25%    1996.000000     0.500000  236.000000    38.000000\n",
       "50%    2008.000000    31.000000  467.000000    38.000000\n",
       "75%    2017.000000   146.000000  601.000000    38.000000\n",
       "max    2024.000000  2048.000000  760.000000    42.000000"
      ]
     },
     "execution_count": 127,
     "metadata": {},
     "output_type": "execute_result"
    }
   ],
   "source": [
    "# cloth\n",
    "cloth = sets_parts.loc[sets_parts['part_material'].str.contains('Cloth')]\n",
    "print('cloth.shape:', cloth.shape)\n",
    "cloth.describe()"
   ]
  },
  {
   "cell_type": "code",
   "execution_count": 128,
   "id": "dc27ef9a",
   "metadata": {},
   "outputs": [
    {
     "data": {
      "text/plain": [
       "num_parts    29695\n",
       "dtype: object"
      ]
     },
     "execution_count": 128,
     "metadata": {},
     "output_type": "execute_result"
    }
   ],
   "source": [
    "cloth_sum = cloth.sum(axis=0)\n",
    "cloth_sum[5:6]"
   ]
  },
  {
   "cell_type": "code",
   "execution_count": 129,
   "id": "24a384b1",
   "metadata": {},
   "outputs": [],
   "source": [
    "cloth = ['Cloth', 1961, 215, 29695]"
   ]
  },
  {
   "cell_type": "markdown",
   "id": "94874466",
   "metadata": {},
   "source": [
    "### Cloth started in 1961, in 215 sets totaling 29,695 parts. "
   ]
  },
  {
   "cell_type": "code",
   "execution_count": 130,
   "id": "233f5d7e",
   "metadata": {},
   "outputs": [
    {
     "name": "stdout",
     "output_type": "stream",
     "text": [
      "flexible_plastic.shape: (17, 10)\n"
     ]
    },
    {
     "data": {
      "text/html": [
       "<div>\n",
       "<style scoped>\n",
       "    .dataframe tbody tr th:only-of-type {\n",
       "        vertical-align: middle;\n",
       "    }\n",
       "\n",
       "    .dataframe tbody tr th {\n",
       "        vertical-align: top;\n",
       "    }\n",
       "\n",
       "    .dataframe thead th {\n",
       "        text-align: right;\n",
       "    }\n",
       "</style>\n",
       "<table border=\"1\" class=\"dataframe\">\n",
       "  <thead>\n",
       "    <tr style=\"text-align: right;\">\n",
       "      <th></th>\n",
       "      <th>year</th>\n",
       "      <th>num_parts</th>\n",
       "      <th>theme_id</th>\n",
       "      <th>part_cat_id</th>\n",
       "    </tr>\n",
       "  </thead>\n",
       "  <tbody>\n",
       "    <tr>\n",
       "      <th>count</th>\n",
       "      <td>17.000000</td>\n",
       "      <td>17.000000</td>\n",
       "      <td>17.000000</td>\n",
       "      <td>17.000000</td>\n",
       "    </tr>\n",
       "    <tr>\n",
       "      <th>mean</th>\n",
       "      <td>2011.470588</td>\n",
       "      <td>272.176471</td>\n",
       "      <td>474.823529</td>\n",
       "      <td>29.235294</td>\n",
       "    </tr>\n",
       "    <tr>\n",
       "      <th>std</th>\n",
       "      <td>12.057765</td>\n",
       "      <td>292.551328</td>\n",
       "      <td>211.948471</td>\n",
       "      <td>9.216354</td>\n",
       "    </tr>\n",
       "    <tr>\n",
       "      <th>min</th>\n",
       "      <td>1973.000000</td>\n",
       "      <td>0.000000</td>\n",
       "      <td>3.000000</td>\n",
       "      <td>27.000000</td>\n",
       "    </tr>\n",
       "    <tr>\n",
       "      <th>25%</th>\n",
       "      <td>2011.000000</td>\n",
       "      <td>64.000000</td>\n",
       "      <td>272.000000</td>\n",
       "      <td>27.000000</td>\n",
       "    </tr>\n",
       "    <tr>\n",
       "      <th>50%</th>\n",
       "      <td>2014.000000</td>\n",
       "      <td>191.000000</td>\n",
       "      <td>503.000000</td>\n",
       "      <td>27.000000</td>\n",
       "    </tr>\n",
       "    <tr>\n",
       "      <th>75%</th>\n",
       "      <td>2018.000000</td>\n",
       "      <td>369.000000</td>\n",
       "      <td>599.000000</td>\n",
       "      <td>27.000000</td>\n",
       "    </tr>\n",
       "    <tr>\n",
       "      <th>max</th>\n",
       "      <td>2022.000000</td>\n",
       "      <td>1007.000000</td>\n",
       "      <td>742.000000</td>\n",
       "      <td>65.000000</td>\n",
       "    </tr>\n",
       "  </tbody>\n",
       "</table>\n",
       "</div>"
      ],
      "text/plain": [
       "              year    num_parts    theme_id  part_cat_id\n",
       "count    17.000000    17.000000   17.000000    17.000000\n",
       "mean   2011.470588   272.176471  474.823529    29.235294\n",
       "std      12.057765   292.551328  211.948471     9.216354\n",
       "min    1973.000000     0.000000    3.000000    27.000000\n",
       "25%    2011.000000    64.000000  272.000000    27.000000\n",
       "50%    2014.000000   191.000000  503.000000    27.000000\n",
       "75%    2018.000000   369.000000  599.000000    27.000000\n",
       "max    2022.000000  1007.000000  742.000000    65.000000"
      ]
     },
     "execution_count": 130,
     "metadata": {},
     "output_type": "execute_result"
    }
   ],
   "source": [
    "# flexible plastic\n",
    "\n",
    "flexible_plastic = sets_parts.loc[sets_parts['part_material'].str.contains('Flexible Plastic')]\n",
    "print('flexible_plastic.shape:', flexible_plastic.shape)\n",
    "flexible_plastic.describe()"
   ]
  },
  {
   "cell_type": "code",
   "execution_count": 131,
   "id": "7223235e",
   "metadata": {},
   "outputs": [
    {
     "data": {
      "text/plain": [
       "num_parts    4627\n",
       "dtype: object"
      ]
     },
     "execution_count": 131,
     "metadata": {},
     "output_type": "execute_result"
    }
   ],
   "source": [
    "flexible_plastic_sum = flexible_plastic.sum(axis=0)\n",
    "flexible_plastic_sum[5:6]"
   ]
  },
  {
   "cell_type": "code",
   "execution_count": 132,
   "id": "26c41a80",
   "metadata": {},
   "outputs": [],
   "source": [
    "flexible_plastic = ['Flexible Plastic', 1973, 17, 4627]"
   ]
  },
  {
   "cell_type": "markdown",
   "id": "198ca12e",
   "metadata": {},
   "source": [
    "### Flexible plastic started in 1973, in 17 sets totaling 4,627 parts. "
   ]
  },
  {
   "cell_type": "code",
   "execution_count": 133,
   "id": "e34ea58a",
   "metadata": {},
   "outputs": [
    {
     "name": "stdout",
     "output_type": "stream",
     "text": [
      "metal.shape: (4, 10)\n"
     ]
    },
    {
     "data": {
      "text/html": [
       "<div>\n",
       "<style scoped>\n",
       "    .dataframe tbody tr th:only-of-type {\n",
       "        vertical-align: middle;\n",
       "    }\n",
       "\n",
       "    .dataframe tbody tr th {\n",
       "        vertical-align: top;\n",
       "    }\n",
       "\n",
       "    .dataframe thead th {\n",
       "        text-align: right;\n",
       "    }\n",
       "</style>\n",
       "<table border=\"1\" class=\"dataframe\">\n",
       "  <thead>\n",
       "    <tr style=\"text-align: right;\">\n",
       "      <th></th>\n",
       "      <th>year</th>\n",
       "      <th>num_parts</th>\n",
       "      <th>theme_id</th>\n",
       "      <th>part_cat_id</th>\n",
       "    </tr>\n",
       "  </thead>\n",
       "  <tbody>\n",
       "    <tr>\n",
       "      <th>count</th>\n",
       "      <td>4.000000</td>\n",
       "      <td>4.000000</td>\n",
       "      <td>4.000000</td>\n",
       "      <td>4.00</td>\n",
       "    </tr>\n",
       "    <tr>\n",
       "      <th>mean</th>\n",
       "      <td>2013.750000</td>\n",
       "      <td>107.250000</td>\n",
       "      <td>562.250000</td>\n",
       "      <td>26.75</td>\n",
       "    </tr>\n",
       "    <tr>\n",
       "      <th>std</th>\n",
       "      <td>7.889867</td>\n",
       "      <td>116.760082</td>\n",
       "      <td>201.965962</td>\n",
       "      <td>19.50</td>\n",
       "    </tr>\n",
       "    <tr>\n",
       "      <th>min</th>\n",
       "      <td>2005.000000</td>\n",
       "      <td>0.000000</td>\n",
       "      <td>271.000000</td>\n",
       "      <td>17.00</td>\n",
       "    </tr>\n",
       "    <tr>\n",
       "      <th>25%</th>\n",
       "      <td>2008.750000</td>\n",
       "      <td>24.000000</td>\n",
       "      <td>525.250000</td>\n",
       "      <td>17.00</td>\n",
       "    </tr>\n",
       "    <tr>\n",
       "      <th>50%</th>\n",
       "      <td>2013.500000</td>\n",
       "      <td>85.500000</td>\n",
       "      <td>620.500000</td>\n",
       "      <td>17.00</td>\n",
       "    </tr>\n",
       "    <tr>\n",
       "      <th>75%</th>\n",
       "      <td>2018.500000</td>\n",
       "      <td>168.750000</td>\n",
       "      <td>657.500000</td>\n",
       "      <td>26.75</td>\n",
       "    </tr>\n",
       "    <tr>\n",
       "      <th>max</th>\n",
       "      <td>2023.000000</td>\n",
       "      <td>258.000000</td>\n",
       "      <td>737.000000</td>\n",
       "      <td>56.00</td>\n",
       "    </tr>\n",
       "  </tbody>\n",
       "</table>\n",
       "</div>"
      ],
      "text/plain": [
       "              year   num_parts    theme_id  part_cat_id\n",
       "count     4.000000    4.000000    4.000000         4.00\n",
       "mean   2013.750000  107.250000  562.250000        26.75\n",
       "std       7.889867  116.760082  201.965962        19.50\n",
       "min    2005.000000    0.000000  271.000000        17.00\n",
       "25%    2008.750000   24.000000  525.250000        17.00\n",
       "50%    2013.500000   85.500000  620.500000        17.00\n",
       "75%    2018.500000  168.750000  657.500000        26.75\n",
       "max    2023.000000  258.000000  737.000000        56.00"
      ]
     },
     "execution_count": 133,
     "metadata": {},
     "output_type": "execute_result"
    }
   ],
   "source": [
    "# metal\n",
    "\n",
    "metal = sets_parts.loc[sets_parts['part_material'].str.contains('Metal')]\n",
    "print('metal.shape:', metal.shape)\n",
    "metal.describe()"
   ]
  },
  {
   "cell_type": "code",
   "execution_count": 134,
   "id": "7b915300",
   "metadata": {},
   "outputs": [
    {
     "data": {
      "text/plain": [
       "num_parts    429\n",
       "dtype: object"
      ]
     },
     "execution_count": 134,
     "metadata": {},
     "output_type": "execute_result"
    }
   ],
   "source": [
    "metal_sum = metal.sum(axis=0)\n",
    "metal_sum[5:6]"
   ]
  },
  {
   "cell_type": "code",
   "execution_count": 135,
   "id": "7f57bf4d",
   "metadata": {},
   "outputs": [],
   "source": [
    "metal = ['Metal', 2005, 17, 429]"
   ]
  },
  {
   "cell_type": "markdown",
   "id": "6e98d297",
   "metadata": {},
   "source": [
    "### Metal started in 2005, in 17 sets totaling 429 parts. "
   ]
  },
  {
   "cell_type": "code",
   "execution_count": 136,
   "id": "a50299d8",
   "metadata": {},
   "outputs": [
    {
     "name": "stdout",
     "output_type": "stream",
     "text": [
      "foam.shape: (18, 10)\n"
     ]
    },
    {
     "data": {
      "text/html": [
       "<div>\n",
       "<style scoped>\n",
       "    .dataframe tbody tr th:only-of-type {\n",
       "        vertical-align: middle;\n",
       "    }\n",
       "\n",
       "    .dataframe tbody tr th {\n",
       "        vertical-align: top;\n",
       "    }\n",
       "\n",
       "    .dataframe thead th {\n",
       "        text-align: right;\n",
       "    }\n",
       "</style>\n",
       "<table border=\"1\" class=\"dataframe\">\n",
       "  <thead>\n",
       "    <tr style=\"text-align: right;\">\n",
       "      <th></th>\n",
       "      <th>year</th>\n",
       "      <th>num_parts</th>\n",
       "      <th>theme_id</th>\n",
       "      <th>part_cat_id</th>\n",
       "    </tr>\n",
       "  </thead>\n",
       "  <tbody>\n",
       "    <tr>\n",
       "      <th>count</th>\n",
       "      <td>18.000000</td>\n",
       "      <td>18.000000</td>\n",
       "      <td>18.000000</td>\n",
       "      <td>18.000000</td>\n",
       "    </tr>\n",
       "    <tr>\n",
       "      <th>mean</th>\n",
       "      <td>2014.888889</td>\n",
       "      <td>877.833333</td>\n",
       "      <td>73.444444</td>\n",
       "      <td>40.611111</td>\n",
       "    </tr>\n",
       "    <tr>\n",
       "      <th>std</th>\n",
       "      <td>12.947354</td>\n",
       "      <td>1235.349927</td>\n",
       "      <td>186.094607</td>\n",
       "      <td>5.892557</td>\n",
       "    </tr>\n",
       "    <tr>\n",
       "      <th>min</th>\n",
       "      <td>1966.000000</td>\n",
       "      <td>0.000000</td>\n",
       "      <td>1.000000</td>\n",
       "      <td>17.000000</td>\n",
       "    </tr>\n",
       "    <tr>\n",
       "      <th>25%</th>\n",
       "      <td>2018.000000</td>\n",
       "      <td>174.500000</td>\n",
       "      <td>1.000000</td>\n",
       "      <td>42.000000</td>\n",
       "    </tr>\n",
       "    <tr>\n",
       "      <th>50%</th>\n",
       "      <td>2018.000000</td>\n",
       "      <td>317.500000</td>\n",
       "      <td>1.000000</td>\n",
       "      <td>42.000000</td>\n",
       "    </tr>\n",
       "    <tr>\n",
       "      <th>75%</th>\n",
       "      <td>2019.000000</td>\n",
       "      <td>900.250000</td>\n",
       "      <td>1.000000</td>\n",
       "      <td>42.000000</td>\n",
       "    </tr>\n",
       "    <tr>\n",
       "      <th>max</th>\n",
       "      <td>2024.000000</td>\n",
       "      <td>4056.000000</td>\n",
       "      <td>721.000000</td>\n",
       "      <td>42.000000</td>\n",
       "    </tr>\n",
       "  </tbody>\n",
       "</table>\n",
       "</div>"
      ],
      "text/plain": [
       "              year    num_parts    theme_id  part_cat_id\n",
       "count    18.000000    18.000000   18.000000    18.000000\n",
       "mean   2014.888889   877.833333   73.444444    40.611111\n",
       "std      12.947354  1235.349927  186.094607     5.892557\n",
       "min    1966.000000     0.000000    1.000000    17.000000\n",
       "25%    2018.000000   174.500000    1.000000    42.000000\n",
       "50%    2018.000000   317.500000    1.000000    42.000000\n",
       "75%    2019.000000   900.250000    1.000000    42.000000\n",
       "max    2024.000000  4056.000000  721.000000    42.000000"
      ]
     },
     "execution_count": 136,
     "metadata": {},
     "output_type": "execute_result"
    }
   ],
   "source": [
    "# foam\n",
    "foam = sets_parts.loc[sets_parts['part_material'].str.contains('Foam')]\n",
    "print('foam.shape:', foam.shape)\n",
    "foam.describe()"
   ]
  },
  {
   "cell_type": "code",
   "execution_count": 137,
   "id": "c6cec5b0",
   "metadata": {},
   "outputs": [
    {
     "data": {
      "text/plain": [
       "num_parts    15801\n",
       "dtype: object"
      ]
     },
     "execution_count": 137,
     "metadata": {},
     "output_type": "execute_result"
    }
   ],
   "source": [
    "foam_sum = foam.sum(axis=0)\n",
    "foam_sum[5:6]"
   ]
  },
  {
   "cell_type": "code",
   "execution_count": 138,
   "id": "6b023961",
   "metadata": {},
   "outputs": [],
   "source": [
    "foam = ['Foam', 1966,18, 15801]"
   ]
  },
  {
   "cell_type": "markdown",
   "id": "37efd2ef",
   "metadata": {},
   "source": [
    "### Foam started in 1966, in 18 sets totaling 15,801 parts. "
   ]
  },
  {
   "cell_type": "markdown",
   "id": "f8490829",
   "metadata": {},
   "source": [
    "## Materials Summary"
   ]
  },
  {
   "cell_type": "code",
   "execution_count": 152,
   "id": "edf5b17c",
   "metadata": {},
   "outputs": [
    {
     "data": {
      "text/html": [
       "<div>\n",
       "<style scoped>\n",
       "    .dataframe tbody tr th:only-of-type {\n",
       "        vertical-align: middle;\n",
       "    }\n",
       "\n",
       "    .dataframe tbody tr th {\n",
       "        vertical-align: top;\n",
       "    }\n",
       "\n",
       "    .dataframe thead th {\n",
       "        text-align: right;\n",
       "    }\n",
       "</style>\n",
       "<table border=\"1\" class=\"dataframe\">\n",
       "  <thead>\n",
       "    <tr style=\"text-align: right;\">\n",
       "      <th></th>\n",
       "      <th>Material</th>\n",
       "      <th>Year</th>\n",
       "      <th>Num of Sets</th>\n",
       "      <th>Total Parts</th>\n",
       "    </tr>\n",
       "  </thead>\n",
       "  <tbody>\n",
       "    <tr>\n",
       "      <th>0</th>\n",
       "      <td>Plastic</td>\n",
       "      <td>1949</td>\n",
       "      <td>23373</td>\n",
       "      <td>3775784</td>\n",
       "    </tr>\n",
       "    <tr>\n",
       "      <th>1</th>\n",
       "      <td>Rubber</td>\n",
       "      <td>1961</td>\n",
       "      <td>69</td>\n",
       "      <td>14320</td>\n",
       "    </tr>\n",
       "    <tr>\n",
       "      <th>2</th>\n",
       "      <td>Cardboard/Paper</td>\n",
       "      <td>1977</td>\n",
       "      <td>27</td>\n",
       "      <td>3843</td>\n",
       "    </tr>\n",
       "    <tr>\n",
       "      <th>3</th>\n",
       "      <td>Cloth</td>\n",
       "      <td>1961</td>\n",
       "      <td>215</td>\n",
       "      <td>29695</td>\n",
       "    </tr>\n",
       "    <tr>\n",
       "      <th>4</th>\n",
       "      <td>Flexible Plastic</td>\n",
       "      <td>1973</td>\n",
       "      <td>17</td>\n",
       "      <td>4627</td>\n",
       "    </tr>\n",
       "    <tr>\n",
       "      <th>5</th>\n",
       "      <td>Metal</td>\n",
       "      <td>2005</td>\n",
       "      <td>17</td>\n",
       "      <td>429</td>\n",
       "    </tr>\n",
       "    <tr>\n",
       "      <th>6</th>\n",
       "      <td>Foam</td>\n",
       "      <td>1966</td>\n",
       "      <td>18</td>\n",
       "      <td>15801</td>\n",
       "    </tr>\n",
       "  </tbody>\n",
       "</table>\n",
       "</div>"
      ],
      "text/plain": [
       "           Material  Year  Num of Sets  Total Parts\n",
       "0           Plastic  1949        23373      3775784\n",
       "1            Rubber  1961           69        14320\n",
       "2   Cardboard/Paper  1977           27         3843\n",
       "3             Cloth  1961          215        29695\n",
       "4  Flexible Plastic  1973           17         4627\n",
       "5             Metal  2005           17          429\n",
       "6              Foam  1966           18        15801"
      ]
     },
     "execution_count": 152,
     "metadata": {},
     "output_type": "execute_result"
    }
   ],
   "source": [
    "materials = [plastic, rubber, cardbard_paper, cloth, flexible_plastic, metal, foam]\n",
    "materials_summary = pd.DataFrame(data=materials)\n",
    "materials_summary = materials_summary.rename(columns= {0:'Material', 1:'Year', 2:'Num of Sets', 3:'Total Parts'})\n",
    "materials_summary"
   ]
  },
  {
   "cell_type": "code",
   "execution_count": 151,
   "id": "66002ea8",
   "metadata": {},
   "outputs": [
    {
     "data": {
      "text/plain": [
       "Num of Sets      23736\n",
       "Total Parts    3844499\n",
       "dtype: object"
      ]
     },
     "execution_count": 151,
     "metadata": {},
     "output_type": "execute_result"
    }
   ],
   "source": [
    "materials_sum = materials_summary.sum(axis=0)\n",
    "materials_sum[2:4]"
   ]
  },
  {
   "cell_type": "code",
   "execution_count": null,
   "id": "58b88864",
   "metadata": {},
   "outputs": [],
   "source": [
    "# 3,844,499"
   ]
  },
  {
   "cell_type": "code",
   "execution_count": null,
   "id": "d7ab3919",
   "metadata": {},
   "outputs": [],
   "source": []
  },
  {
   "cell_type": "code",
   "execution_count": null,
   "id": "d8b16730",
   "metadata": {},
   "outputs": [],
   "source": []
  },
  {
   "cell_type": "code",
   "execution_count": null,
   "id": "46144fdf",
   "metadata": {},
   "outputs": [],
   "source": []
  },
  {
   "cell_type": "code",
   "execution_count": null,
   "id": "a61e652e",
   "metadata": {},
   "outputs": [],
   "source": []
  },
  {
   "cell_type": "code",
   "execution_count": null,
   "id": "6bed722a",
   "metadata": {},
   "outputs": [],
   "source": []
  },
  {
   "cell_type": "code",
   "execution_count": null,
   "id": "558d6773",
   "metadata": {},
   "outputs": [],
   "source": []
  },
  {
   "cell_type": "markdown",
   "id": "054d314d",
   "metadata": {},
   "source": [
    "# Ideas\n",
    "\n",
    "- what's planned for 2025?\n",
    "- historically how much is wood vs plastic?\n",
    "- how much for 2025?\n",
    "- estimate num children potential buyers in 2025\n",
    "- extrapolate amt of plastic saved from future landfill\n"
   ]
  },
  {
   "cell_type": "markdown",
   "id": "49ad8c6c",
   "metadata": {},
   "source": [
    "# draft questions"
   ]
  },
  {
   "cell_type": "code",
   "execution_count": null,
   "id": "154cd95a",
   "metadata": {},
   "outputs": [],
   "source": [
    "# what are part_num = ideabooks? \n",
    "\n",
    "ideabook = sets_parts.loc[sets_parts['part_num'].str.contains('ideabook')]\n",
    "ideabook"
   ]
  },
  {
   "cell_type": "code",
   "execution_count": null,
   "id": "15f8e01a",
   "metadata": {},
   "outputs": [],
   "source": [
    "# sets_themes = sets + themes\n",
    "sets_themes = sets.merge(themes, left_on=\"theme_id\", right_on='id')\n",
    "\n",
    "# rename cols\n",
    "sets_themes = (sets_themes.rename(columns={'name_x':'set_name', 'name_y':'theme_name'}))\n",
    "\n",
    "# drop col id\n",
    "sets_themes.drop(columns=['id'])\n",
    "\n",
    "sets_themes.head(2)"
   ]
  },
  {
   "cell_type": "code",
   "execution_count": null,
   "id": "fda88393",
   "metadata": {},
   "outputs": [],
   "source": [
    "# sets_themes_inventories = sets_themes + inventories\n",
    "sets_themes_inventories = sets_themes.merge(inventories, left_on='set_num', right_on='set_num')\n",
    "\n",
    "sets_themes_inventories.head(2)"
   ]
  },
  {
   "cell_type": "code",
   "execution_count": null,
   "id": "ed95e206",
   "metadata": {},
   "outputs": [],
   "source": []
  },
  {
   "cell_type": "code",
   "execution_count": null,
   "id": "cdbf2890",
   "metadata": {},
   "outputs": [],
   "source": [
    "# inventoryparts_colors = inventory_parts + colors\n",
    "inventoryparts_colors = inventory_parts.merge(colors, left_on='color_id', right_on='id')\n",
    "\n",
    "inventoryparts_colors.head(2)"
   ]
  },
  {
   "cell_type": "code",
   "execution_count": null,
   "id": "049bd3c1",
   "metadata": {},
   "outputs": [],
   "source": [
    "# inventoryparts_colors_parts = inventoryparts_colors + parts\n",
    "inventoryparts_colors_parts = inventoryparts_colors.merge(parts, left_on='part_num', right_on='part_num')\n",
    "\n",
    "# rename cols\n",
    "inventoryparts_colors_parts = (inventoryparts_colors_parts.rename(\n",
    "    columns={'name_x':'color_name','name_y':'part_name'}))\n",
    "\n",
    "inventoryparts_colors_parts.head(2)"
   ]
  },
  {
   "cell_type": "code",
   "execution_count": null,
   "id": "675d0e52",
   "metadata": {},
   "outputs": [],
   "source": []
  },
  {
   "cell_type": "code",
   "execution_count": null,
   "id": "08213279",
   "metadata": {},
   "outputs": [],
   "source": []
  },
  {
   "cell_type": "code",
   "execution_count": null,
   "id": "edadb1c5",
   "metadata": {},
   "outputs": [],
   "source": []
  }
 ],
 "metadata": {
  "kernelspec": {
   "display_name": "Python 3 (ipykernel)",
   "language": "python",
   "name": "python3"
  },
  "language_info": {
   "codemirror_mode": {
    "name": "ipython",
    "version": 3
   },
   "file_extension": ".py",
   "mimetype": "text/x-python",
   "name": "python",
   "nbconvert_exporter": "python",
   "pygments_lexer": "ipython3",
   "version": "3.10.9"
  }
 },
 "nbformat": 4,
 "nbformat_minor": 5
}
